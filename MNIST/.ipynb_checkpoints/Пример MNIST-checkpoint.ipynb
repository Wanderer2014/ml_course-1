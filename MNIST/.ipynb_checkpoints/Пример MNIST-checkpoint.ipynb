{
 "cells": [
  {
   "cell_type": "code",
   "execution_count": 2,
   "metadata": {},
   "outputs": [
    {
     "name": "stderr",
     "output_type": "stream",
     "text": [
      "C:\\Anaconda3\\lib\\site-packages\\h5py\\__init__.py:36: FutureWarning: Conversion of the second argument of issubdtype from `float` to `np.floating` is deprecated. In future, it will be treated as `np.float64 == np.dtype(float).type`.\n",
      "  from ._conv import register_converters as _register_converters\n",
      "Using TensorFlow backend.\n"
     ]
    }
   ],
   "source": [
    "import numpy as np\n",
    "from keras.datasets import mnist\n",
    "from keras.models import Sequential\n",
    "from keras.layers import Dense\n",
    "from keras.utils import np_utils"
   ]
  },
  {
   "cell_type": "code",
   "execution_count": 3,
   "metadata": {},
   "outputs": [],
   "source": [
    "# Загружаем данные\n",
    "(X_train, y_train), (X_test, y_test) = mnist.load_data()"
   ]
  },
  {
   "cell_type": "code",
   "execution_count": 4,
   "metadata": {},
   "outputs": [
    {
     "name": "stdout",
     "output_type": "stream",
     "text": [
      "[[0 0 0 ... 0 0 0]\n",
      " [0 0 0 ... 0 0 0]\n",
      " [0 0 0 ... 0 0 0]\n",
      " ...\n",
      " [0 0 0 ... 0 0 0]\n",
      " [0 0 0 ... 0 0 0]\n",
      " [0 0 0 ... 0 0 0]]\n"
     ]
    }
   ],
   "source": [
    "# Преобразование размерности изображений\n",
    "X_train = X_train.reshape(60000, 784)\n",
    "X_test = X_test.reshape(10000, 784)"
   ]
  },
  {
   "cell_type": "code",
   "execution_count": 4,
   "metadata": {},
   "outputs": [],
   "source": [
    "# Нормализация данных\n",
    "X_train = X_train.astype('float32') / 255\n",
    "X_test = X_test.astype('float32') / 255"
   ]
  },
  {
   "cell_type": "code",
   "execution_count": 5,
   "metadata": {},
   "outputs": [],
   "source": [
    "# Преобразуем метки в категории\n",
    "Y_train = np_utils.to_categorical(y_train, 10)\n",
    "Y_test = np_utils.to_categorical(y_test, 10)"
   ]
  },
  {
   "cell_type": "code",
   "execution_count": 6,
   "metadata": {},
   "outputs": [],
   "source": [
    "# Создаем последовательную модель\n",
    "model = Sequential()\n",
    "model.add(Dense(800, input_dim=784, activation=\"relu\", kernel_initializer=\"normal\"))\n",
    "model.add(Dense(10, activation=\"softmax\", kernel_initializer=\"normal\"))\n",
    "model.compile(loss=\"categorical_crossentropy\", optimizer=\"adam\", metrics=[\"accuracy\"])"
   ]
  },
  {
   "cell_type": "code",
   "execution_count": 7,
   "metadata": {},
   "outputs": [
    {
     "name": "stdout",
     "output_type": "stream",
     "text": [
      "_________________________________________________________________\n",
      "Layer (type)                 Output Shape              Param #   \n",
      "=================================================================\n",
      "dense_1 (Dense)              (None, 800)               628000    \n",
      "_________________________________________________________________\n",
      "dense_2 (Dense)              (None, 10)                8010      \n",
      "=================================================================\n",
      "Total params: 636,010\n",
      "Trainable params: 636,010\n",
      "Non-trainable params: 0\n",
      "_________________________________________________________________\n",
      "None\n"
     ]
    }
   ],
   "source": [
    "print(model.summary())"
   ]
  },
  {
   "cell_type": "code",
   "execution_count": 8,
   "metadata": {},
   "outputs": [
    {
     "name": "stdout",
     "output_type": "stream",
     "text": [
      "Train on 60000 samples, validate on 10000 samples\n",
      "Epoch 1/25\n",
      " - 16s - loss: 0.2106 - acc: 0.9391 - val_loss: 0.0963 - val_acc: 0.9711\n",
      "Epoch 2/25\n",
      " - 17s - loss: 0.0802 - acc: 0.9763 - val_loss: 0.0870 - val_acc: 0.9736\n",
      "Epoch 3/25\n",
      " - 17s - loss: 0.0514 - acc: 0.9845 - val_loss: 0.0699 - val_acc: 0.9783\n",
      "Epoch 4/25\n",
      " - 16s - loss: 0.0334 - acc: 0.9897 - val_loss: 0.0624 - val_acc: 0.9801\n",
      "Epoch 5/25\n",
      " - 16s - loss: 0.0263 - acc: 0.9920 - val_loss: 0.0702 - val_acc: 0.9783\n",
      "Epoch 6/25\n",
      " - 16s - loss: 0.0195 - acc: 0.9940 - val_loss: 0.0782 - val_acc: 0.9783\n",
      "Epoch 7/25\n",
      " - 17s - loss: 0.0143 - acc: 0.9957 - val_loss: 0.0640 - val_acc: 0.9815\n",
      "Epoch 8/25\n",
      " - 16s - loss: 0.0128 - acc: 0.9958 - val_loss: 0.0646 - val_acc: 0.9815\n",
      "Epoch 9/25\n",
      " - 16s - loss: 0.0111 - acc: 0.9968 - val_loss: 0.0694 - val_acc: 0.9810\n",
      "Epoch 10/25\n",
      " - 16s - loss: 0.0112 - acc: 0.9965 - val_loss: 0.0663 - val_acc: 0.9819\n",
      "Epoch 11/25\n",
      " - 16s - loss: 0.0070 - acc: 0.9980 - val_loss: 0.0689 - val_acc: 0.9836\n",
      "Epoch 12/25\n",
      " - 16s - loss: 0.0076 - acc: 0.9975 - val_loss: 0.0771 - val_acc: 0.9798\n",
      "Epoch 13/25\n",
      " - 16s - loss: 0.0101 - acc: 0.9969 - val_loss: 0.0733 - val_acc: 0.9828\n",
      "Epoch 14/25\n",
      " - 16s - loss: 0.0044 - acc: 0.9988 - val_loss: 0.0900 - val_acc: 0.9795\n",
      "Epoch 15/25\n",
      " - 16s - loss: 0.0053 - acc: 0.9985 - val_loss: 0.0813 - val_acc: 0.9818\n",
      "Epoch 16/25\n",
      " - 16s - loss: 0.0069 - acc: 0.9977 - val_loss: 0.0764 - val_acc: 0.9835\n",
      "Epoch 17/25\n",
      " - 16s - loss: 0.0074 - acc: 0.9975 - val_loss: 0.0819 - val_acc: 0.9823\n",
      "Epoch 18/25\n",
      " - 16s - loss: 0.0028 - acc: 0.9991 - val_loss: 0.0741 - val_acc: 0.9851\n",
      "Epoch 19/25\n",
      " - 16s - loss: 0.0072 - acc: 0.9978 - val_loss: 0.1096 - val_acc: 0.9794\n",
      "Epoch 20/25\n",
      " - 16s - loss: 0.0055 - acc: 0.9983 - val_loss: 0.0932 - val_acc: 0.9818\n",
      "Epoch 21/25\n",
      " - 16s - loss: 0.0028 - acc: 0.9992 - val_loss: 0.1085 - val_acc: 0.9791\n",
      "Epoch 22/25\n",
      " - 16s - loss: 0.0084 - acc: 0.9972 - val_loss: 0.0920 - val_acc: 0.9821\n",
      "Epoch 23/25\n",
      " - 17s - loss: 0.0036 - acc: 0.9988 - val_loss: 0.0844 - val_acc: 0.9831\n",
      "Epoch 24/25\n",
      " - 18s - loss: 0.0045 - acc: 0.9985 - val_loss: 0.1066 - val_acc: 0.9792\n",
      "Epoch 25/25\n",
      " - 17s - loss: 0.0057 - acc: 0.9982 - val_loss: 0.1029 - val_acc: 0.9799\n"
     ]
    }
   ],
   "source": [
    "# Обучаем сеть\n",
    "history = model.fit(X_train, Y_train, batch_size=64, epochs=25, validation_data=(X_test, Y_test), verbose=2)"
   ]
  },
  {
   "cell_type": "code",
   "execution_count": 9,
   "metadata": {},
   "outputs": [
    {
     "name": "stdout",
     "output_type": "stream",
     "text": [
      "10000/10000 [==============================] - 1s 78us/step\n",
      "Точность работы на тестовых данных: 97.99%\n"
     ]
    }
   ],
   "source": [
    "# Оцениваем качество обучения сети на тестовых данных\n",
    "scores = model.evaluate(X_test, Y_test)\n",
    "print(\"Точность работы на тестовых данных: %.2f%%\" % (scores[1]*100))"
   ]
  },
  {
   "cell_type": "code",
   "execution_count": 10,
   "metadata": {},
   "outputs": [],
   "source": [
    "import matplotlib.pyplot as plt\n",
    "%matplotlib inline"
   ]
  },
  {
   "cell_type": "code",
   "execution_count": 11,
   "metadata": {},
   "outputs": [
    {
     "data": {
      "image/png": "[encoded data removed]",
      "text/plain": [
       "<Figure size 432x288 with 1 Axes>"
      ]
     },
     "metadata": {},
     "output_type": "display_data"
    }
   ],
   "source": [
    "plt.plot(history.history['acc'], label='Аккуратность на обучающем наборе')\n",
    "plt.plot(history.history['val_acc'], label='Аккуратность на проверочном наборе')\n",
    "plt.xlabel('Эпоха обучения')\n",
    "plt.ylabel('Аккуратность')\n",
    "plt.legend()\n",
    "plt.show()"
   ]
  },
  {
   "cell_type": "code",
   "execution_count": 12,
   "metadata": {},
   "outputs": [
    {
     "name": "stdout",
     "output_type": "stream",
     "text": [
      "9\n"
     ]
    }
   ],
   "source": [
    "x = X_test[488]\n",
    "x = np.expand_dims(x, axis=0)\n",
    "y = model.predict(x)\n",
    "prediction = np.argmax(y)\n",
    "print(prediction)"
   ]
  },
  {
   "cell_type": "code",
   "execution_count": 13,
   "metadata": {},
   "outputs": [
    {
     "name": "stdout",
     "output_type": "stream",
     "text": [
      "9\n"
     ]
    }
   ],
   "source": [
    "print(y_test[488])"
   ]
  },
  {
   "cell_type": "code",
   "execution_count": null,
   "metadata": {},
   "outputs": [],
   "source": []
  }
 ],
 "metadata": {
  "kernelspec": {
   "display_name": "Python 3",
   "language": "python",
   "name": "python3"
  },
  "language_info": {
   "codemirror_mode": {
    "name": "ipython",
    "version": 3
   },
   "file_extension": ".py",
   "mimetype": "text/x-python",
   "name": "python",
   "nbconvert_exporter": "python",
   "pygments_lexer": "ipython3",
   "version": "3.6.5"
  }
 },
 "nbformat": 4,
 "nbformat_minor": 2
}
